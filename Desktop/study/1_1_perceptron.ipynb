{
 "cells": [
  {
   "cell_type": "markdown",
   "metadata": {},
   "source": [
    "# Perceptron"
   ]
  },
  {
   "cell_type": "markdown",
   "metadata": {},
   "source": [
    "## 1. AND"
   ]
  },
  {
   "cell_type": "code",
   "execution_count": 22,
   "metadata": {},
   "outputs": [
    {
     "name": "stdout",
     "output_type": "stream",
     "text": [
      "--- 퍼셉트론으로 구현한 AND 게이트 ---\n",
      "(-1, -1)  :  -1\n",
      "(-1, 1)  :  -1\n",
      "(1, -1)  :  -1\n",
      "(1, 1)  :  1\n"
     ]
    }
   ],
   "source": [
    "import numpy as np\n",
    "\n",
    "def AND(x1, x2):\n",
    "    W, b = np.array([0.5, 0.5]), -0.7\n",
    "    x = np.array([x1, x2])\n",
    "    tmp = np.sum(W*x) + b\n",
    "    if tmp <= 0:\n",
    "        return -1\n",
    "    else:\n",
    "        return 1\n",
    "    \n",
    "print('--- 퍼셉트론으로 구현한 AND 게이트 ---')\n",
    "\n",
    "for xs in [(-1,-1), (-1,1), (1,-1), (1,1)]:\n",
    "    y = AND(xs[0], xs[1])\n",
    "    print(xs, ' : ', y)"
   ]
  },
  {
   "cell_type": "markdown",
   "metadata": {},
   "source": [
    "## 2. NAND"
   ]
  },
  {
   "cell_type": "code",
   "execution_count": 31,
   "metadata": {},
   "outputs": [
    {
     "name": "stdout",
     "output_type": "stream",
     "text": [
      "--- 퍼셉트론으로 구현한 NAND 게이트 ---\n",
      "(-1, -1)  :  1\n",
      "(-1, 1)  :  1\n",
      "(1, -1)  :  1\n",
      "(1, 1)  :  -1\n"
     ]
    }
   ],
   "source": [
    "def NAND(x1, x2):\n",
    "    W, b = np.array([-0.5, -0.5]), 0.7\n",
    "    x = np.array([x1, x2])\n",
    "    tmp = np.sum(W*x) + b\n",
    "    if tmp <= 0:\n",
    "        return -1\n",
    "    else:\n",
    "        return 1\n",
    "    \n",
    "print('--- 퍼셉트론으로 구현한 NAND 게이트 ---')\n",
    "\n",
    "for xs in [(-1,-1), (-1,1), (1,-1), (1,1)]:\n",
    "    y = NAND(xs[0], xs[1])\n",
    "    print(xs, ' : ', y)"
   ]
  },
  {
   "cell_type": "markdown",
   "metadata": {},
   "source": [
    "## 3. OR"
   ]
  },
  {
   "cell_type": "code",
   "execution_count": 34,
   "metadata": {},
   "outputs": [
    {
     "name": "stdout",
     "output_type": "stream",
     "text": [
      "--- 퍼셉트론으로 구현한 OR 게이트 ---\n",
      "(-1, -1)  :  -1\n",
      "(-1, 1)  :  1\n",
      "(1, -1)  :  1\n",
      "(1, 1)  :  1\n"
     ]
    }
   ],
   "source": [
    "def OR(x1, x2):\n",
    "    W, b = np.array([0.5, 0.5]), 0.2\n",
    "    x = np.array([x1, x2])\n",
    "    tmp = np.sum(W*x) + b\n",
    "    if tmp <= 0:\n",
    "        return -1\n",
    "    else:\n",
    "        return 1\n",
    "\n",
    "print('--- 퍼셉트론으로 구현한 OR 게이트 ---')\n",
    "\n",
    "for xs in [(-1,-1), (-1,1), (1,-1), (1,1)]:\n",
    "    y = OR(xs[0], xs[1])\n",
    "    print(xs, ' : ', y)"
   ]
  },
  {
   "cell_type": "markdown",
   "metadata": {},
   "source": [
    "## 4. XOR"
   ]
  },
  {
   "cell_type": "code",
   "execution_count": 35,
   "metadata": {},
   "outputs": [
    {
     "name": "stdout",
     "output_type": "stream",
     "text": [
      "(-1, -1)  :  -1\n",
      "(-1, 1)  :  1\n",
      "(1, -1)  :  1\n",
      "(1, 1)  :  -1\n"
     ]
    }
   ],
   "source": [
    "def XOR(x1, x2):\n",
    "    s1 = NAND(x1, x2)\n",
    "    s2 = OR(x1, x2)\n",
    "    y = AND(s1, s2)\n",
    "    return y\n",
    "\n",
    "for xs in [(-1,-1), (-1,1), (1,-1), (1,1)]:\n",
    "    y = XOR(xs[0], xs[1])\n",
    "    print(xs, ' : ', y)"
   ]
  },
  {
   "cell_type": "code",
   "execution_count": null,
   "metadata": {},
   "outputs": [],
   "source": []
  }
 ],
 "metadata": {
  "kernelspec": {
   "display_name": "Python 3",
   "language": "python",
   "name": "python3"
  },
  "language_info": {
   "codemirror_mode": {
    "name": "ipython",
    "version": 3
   },
   "file_extension": ".py",
   "mimetype": "text/x-python",
   "name": "python",
   "nbconvert_exporter": "python",
   "pygments_lexer": "ipython3",
   "version": "3.8.5"
  }
 },
 "nbformat": 4,
 "nbformat_minor": 4
}
